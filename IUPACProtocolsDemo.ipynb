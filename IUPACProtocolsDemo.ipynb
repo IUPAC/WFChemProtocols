{
 "cells": [
  {
   "cell_type": "markdown",
   "id": "9ade7f1c",
   "metadata": {},
   "source": [
    "![IUPAC WorldFAIR](https://iupac.github.io/WFChemProtocols/_static/iupac_and_wf.jpg)\n",
    "\n",
    "\n",
    "# WorldFAIR Chemistry: Protocol Services\n",
    "\n",
    "\n",
    "## Interactive Demonstration\n",
    "\n",
    "\n",
    "This notebook is intended as an interactive demonstration of the services being proposed by the IUPAC WorldFAIR Chemistry D3.3 project team. A complete description of the project is available at:\n",
    "\n",
    "[https://iupac.github.io/WFChemProtocols/intro.html](https://iupac.github.io/WFChemProtocols/intro.html)\n",
    "\n",
    "This notebook itself is available at:\n",
    "\n",
    "[https://github.com/IUPAC/WFChemProtocols/blob/main/IUPACProtocolsDemo.ipynb](https://github.com/IUPAC/WFChemProtocols/blob/main/IUPACProtocolsDemo.ipynb)\n",
    "\n",
    "\n",
    "## Resolver Summary\n",
    "\n",
    "While more detail is provided in the documentation linked above, in short what is described here is a web service called a \"resolver\" that performs two main functions: \n",
    "1. Check for the presence of a chemical record in the hosting organization's database. \n",
    "2. Validate the machine-readable chemical structure according to the hosting organization's rules."
   ]
  },
  {
   "cell_type": "markdown",
   "id": "9605ff45",
   "metadata": {},
   "source": [
    "## Resolver Base URL\n",
    "\n",
    "The service being proposed in this project is a regular HTTP web service, using standard CGI URL syntax, and a well-defined data model for the information returned. This demonstration uses a prototype service hosted by PubChem, using JSON as the response format (although in principle it could be XML or any other structured data format). \n",
    "\n",
    "One key point of this proposal is that the base URL for the resolver CGI would vary from one institution to another, but the inputs (CGI arguments) and outputs (JSON data) would be standard, the same for any organization implementing the service. So simply by switching the base URL, one can run the same query on multiple different sites, without otherwise needing to change any code.\n",
    "\n",
    "In python, using the \"requests\" library, it might look like this:"
   ]
  },
  {
   "cell_type": "code",
   "execution_count": 1,
   "id": "d60e8a11",
   "metadata": {},
   "outputs": [],
   "source": [
    "# do not change or remove this line, the examples below depend on it\n",
    "import requests"
   ]
  },
  {
   "cell_type": "code",
   "execution_count": 2,
   "id": "e9223d44",
   "metadata": {},
   "outputs": [],
   "source": [
    "RESOLVER_BASE_URL = \"https://pubchem.ncbi.nlm.nih.gov/resolver/resolver.cgi\""
   ]
  },
  {
   "cell_type": "markdown",
   "id": "3449b4db",
   "metadata": {},
   "source": [
    "When called without any arguments, the resolver will return some information about what inputs and outputs it can handle."
   ]
  },
  {
   "cell_type": "code",
   "execution_count": 3,
   "id": "6818ccca",
   "metadata": {},
   "outputs": [
    {
     "name": "stdout",
     "output_type": "stream",
     "text": [
      "https://pubchem.ncbi.nlm.nih.gov/resolver/resolver.cgi\n",
      "\n",
      "\n",
      "{\n",
      "  \"Result\": {\n",
      "    \"ServiceDetails\": [\n",
      "      {\n",
      "        \"Resource\": \"PubChem\",\n",
      "        \"ResourceURL\": \"https://pubchem.ncbi.nlm.nih.gov\",\n",
      "        \"ResolverURL\": \"https://pubchem.ncbi.nlm.nih.gov/resolver/resolver.cgi\",\n",
      "        \"AvailableInputs\": {\n",
      "          \"SDF\": true,\n",
      "          \"SMILES\": true,\n",
      "          \"InChI\": true,\n",
      "          \"InChIKey\": true,\n",
      "          \"PNG\": false,\n",
      "          \"Name\": true\n",
      "        },\n",
      "        \"AvailableOutputs\": {\n",
      "          \"IUPACName\": true,\n",
      "          \"SMILES\": true,\n",
      "          \"InChI\": true,\n",
      "          \"InChIKey\": true,\n",
      "          \"ResourceIdentifier\": true,\n",
      "          \"RecordURL\": true,\n",
      "          \"ImageURL\": true\n",
      "        }\n",
      "      }\n",
      "    ]\n",
      "  }\n",
      "}\n",
      "\n"
     ]
    }
   ],
   "source": [
    "# this does the actual HTTP call to the resolver CGI\n",
    "result = requests.get(RESOLVER_BASE_URL)\n",
    "\n",
    "print(result.url)\n",
    "print('\\n')\n",
    "print(result.text)"
   ]
  },
  {
   "cell_type": "markdown",
   "id": "e678e45c",
   "metadata": {},
   "source": [
    "## Chemical Lookup\n",
    "\n",
    "The resolver service can check to see whether a given chemical is present in the host organization's database. Examples are below, but note that in the interactive Jupyter notebook, one can edit the inputs to query whatever chemical is desired.\n",
    "\n",
    "First, to look up by SMILES string:"
   ]
  },
  {
   "cell_type": "code",
   "execution_count": 4,
   "id": "71f5c847",
   "metadata": {},
   "outputs": [
    {
     "name": "stdout",
     "output_type": "stream",
     "text": [
      "https://pubchem.ncbi.nlm.nih.gov/resolver/resolver.cgi?smiles=CCCC\n",
      "\n",
      "\n",
      "{\n",
      "  \"Result\": {\n",
      "    \"Match\": [\n",
      "      {\n",
      "        \"Resource\": \"PubChem\",\n",
      "        \"ResourceURL\": \"https://pubchem.ncbi.nlm.nih.gov\",\n",
      "        \"ResourceIdentifier\": \"7843\",\n",
      "        \"ResourceIdentifierType\": \"CID\",\n",
      "        \"RecordURL\": \"https://pubchem.ncbi.nlm.nih.gov/compound/7843\",\n",
      "        \"ImageURL\": \"https://pubchem.ncbi.nlm.nih.gov/image/imgsrv.fcgi?t=l&cid=7843\",\n",
      "        \"IUPACName\": \"butane\",\n",
      "        \"SMILES\": \"CCCC\",\n",
      "        \"InChI\": \"InChI=1S/C4H10/c1-3-4-2/h3-4H2,1-2H3\",\n",
      "        \"InChIKey\": \"IJDNQMDRQITEOD-UHFFFAOYSA-N\"\n",
      "      }\n",
      "    ]\n",
      "  }\n",
      "}\n",
      "\n"
     ]
    }
   ],
   "source": [
    "payload = { \"smiles\": \"CCCC\" }\n",
    "result = requests.get(RESOLVER_BASE_URL, payload)\n",
    "\n",
    "print(result.url)\n",
    "print('\\n')\n",
    "print(result.text)"
   ]
  },
  {
   "cell_type": "markdown",
   "id": "403ddbc7",
   "metadata": {},
   "source": [
    "In this example code, the requests module is constructing the full URL from the payload argument. The resulting data indicates that there is indeed a matching record in the host's database, and various record fields are provided that would allow the user to get more information directly from the hosting site; this is not intended for full record retrieval, but rather a simplified response that says whether the chemical is found and where to go to get more detail. So in this case the user can follow the link to the full PubChem record:\n",
    "\n",
    "[https://pubchem.ncbi.nlm.nih.gov/compound/7843](https://pubchem.ncbi.nlm.nih.gov/compound/7843)\n",
    "\n",
    "Or see an image of the chemical structure (although not terribly interesting in this case!):\n",
    "\n",
    "[https://pubchem.ncbi.nlm.nih.gov/image/imgsrv.fcgi?t=l&cid=7843](https://pubchem.ncbi.nlm.nih.gov/image/imgsrv.fcgi?t=l&cid=7843)\n",
    "![butane image](https://pubchem.ncbi.nlm.nih.gov/image/imgsrv.fcgi?t=l&cid=7843)\n",
    "\n",
    "If the chemical is not in the databse, the response would be something like this, where an empty result means nothing was found (this could also potentially be indicated by an HTTP 404 response, but is not done that way in this sample implementation):"
   ]
  },
  {
   "cell_type": "code",
   "execution_count": 5,
   "id": "3af2399e",
   "metadata": {},
   "outputs": [
    {
     "name": "stdout",
     "output_type": "stream",
     "text": [
      "https://pubchem.ncbi.nlm.nih.gov/resolver/resolver.cgi?smiles=CCCC%28Br%29CC%28F%29%28Cl%29CCC\n",
      "\n",
      "\n",
      "{\n",
      "  \"Result\": {\n",
      "  }\n",
      "}\n",
      "\n"
     ]
    }
   ],
   "source": [
    "payload = { \"smiles\": \"CCCC(Br)CC(F)(Cl)CCC\" }\n",
    "result = requests.get(RESOLVER_BASE_URL, payload)\n",
    "\n",
    "print(result.url)\n",
    "print('\\n')\n",
    "print(result.text)"
   ]
  },
  {
   "cell_type": "markdown",
   "id": "8de4e167",
   "metadata": {},
   "source": [
    "The resolver can handle multiple input formats for the chemical structure, as listed in the previous section. So all of these would return the same result, which can be verified by (un)commenting various payload lines below:"
   ]
  },
  {
   "cell_type": "code",
   "execution_count": 6,
   "id": "cd8eb82e",
   "metadata": {},
   "outputs": [
    {
     "name": "stdout",
     "output_type": "stream",
     "text": [
      "https://pubchem.ncbi.nlm.nih.gov/resolver/resolver.cgi?inchi=InChI%3D1S%2FC4H10%2Fc1-3-4-2%2Fh3-4H2%2C1-2H3\n",
      "\n",
      "\n",
      "{\n",
      "  \"Result\": {\n",
      "    \"Match\": [\n",
      "      {\n",
      "        \"Resource\": \"PubChem\",\n",
      "        \"ResourceURL\": \"https://pubchem.ncbi.nlm.nih.gov\",\n",
      "        \"ResourceIdentifier\": \"7843\",\n",
      "        \"ResourceIdentifierType\": \"CID\",\n",
      "        \"RecordURL\": \"https://pubchem.ncbi.nlm.nih.gov/compound/7843\",\n",
      "        \"ImageURL\": \"https://pubchem.ncbi.nlm.nih.gov/image/imgsrv.fcgi?t=l&cid=7843\",\n",
      "        \"IUPACName\": \"butane\",\n",
      "        \"SMILES\": \"CCCC\",\n",
      "        \"InChI\": \"InChI=1S/C4H10/c1-3-4-2/h3-4H2,1-2H3\",\n",
      "        \"InChIKey\": \"IJDNQMDRQITEOD-UHFFFAOYSA-N\"\n",
      "      }\n",
      "    ]\n",
      "  }\n",
      "}\n",
      "\n"
     ]
    }
   ],
   "source": [
    "payload = { \"inchi\": \"InChI=1S/C4H10/c1-3-4-2/h3-4H2,1-2H3\" }\n",
    "#payload = { \"smiles\": \"CCCC\" }\n",
    "#payload = { \"inchikey\": \"IJDNQMDRQITEOD-UHFFFAOYSA-N\" }\n",
    "#payload = { \"name\": \"butane\" }\n",
    "\n",
    "result = requests.get(RESOLVER_BASE_URL, payload)\n",
    "\n",
    "print(result.url)\n",
    "print('\\n')\n",
    "print(result.text)"
   ]
  },
  {
   "cell_type": "markdown",
   "id": "001c5456",
   "metadata": {},
   "source": [
    "Note that the InChI full string needs to be URL-encoded in order to be passed as an argument to the CGI, as would some SMILES strings with special characters. Again, this is handled automatically by the requests library in this example."
   ]
  },
  {
   "cell_type": "markdown",
   "id": "d64e9698",
   "metadata": {},
   "source": [
    "## Chemical Structure Validation\n",
    "\n",
    "The second major function of the resolver is to check the validity of chemical structures. That is, when a user inputs a SMILES string or an SDF file (for example, as export from some chemical drawing package or ELN), does the host organization confirm that the structure is valid? Does it have the right number of defined stereocenters, isotopes, etc.? Sometimes chemists draw complex structures in a way where stereochemistry is implied by the drawing, but may not be interpreted as such by a machine. This tool will allow the chemist to verify that the structure is perceived by the chemical software in the same way as by the chemist themselves.\n",
    "\n",
    "When called with this special action argument, the resolver returns some basic statistics about what it sees in the structure. Note this may vary somewhat from organization to organization, especially for edge cases where differet chemical software packages produce slightly different results. This is expected, and part of the idea here is to ask \"What does PubChem think of this structure?\" vs. \"What does EPA think of this structure?\""
   ]
  },
  {
   "cell_type": "code",
   "execution_count": 7,
   "id": "8aef405b",
   "metadata": {},
   "outputs": [
    {
     "name": "stdout",
     "output_type": "stream",
     "text": [
      "https://pubchem.ncbi.nlm.nih.gov/resolver/resolver.cgi?smiles=CCCC&action=validate_structure\n",
      "\n",
      "\n",
      "{\n",
      "  \"Result\": {\n",
      "    \"Message\": \"Structure is valid\",\n",
      "    \"Statistics\": [\n",
      "      {\n",
      "        \"Type\": \"DefinedAtomStereo\",\n",
      "        \"Value\": \"0\"\n",
      "      },\n",
      "      {\n",
      "        \"Type\": \"UndefinedAtomStereo\",\n",
      "        \"Value\": \"0\"\n",
      "      },\n",
      "      {\n",
      "        \"Type\": \"DefinedBondStereo\",\n",
      "        \"Value\": \"0\"\n",
      "      },\n",
      "      {\n",
      "        \"Type\": \"UndefinedBondStereo\",\n",
      "        \"Value\": \"0\"\n",
      "      },\n",
      "      {\n",
      "        \"Type\": \"HeavyAtoms\",\n",
      "        \"Value\": \"4\"\n",
      "      },\n",
      "      {\n",
      "        \"Type\": \"IsotopeAtoms\",\n",
      "        \"Value\": \"0\"\n",
      "      },\n",
      "      {\n",
      "        \"Type\": \"CovalentUnits\",\n",
      "        \"Value\": \"1\"\n",
      "      }\n",
      "    ]\n",
      "  }\n",
      "}\n",
      "\n"
     ]
    }
   ],
   "source": [
    "payload = { \"smiles\": \"CCCC\", \"action\": \"validate_structure\" }\n",
    "\n",
    "result = requests.get(RESOLVER_BASE_URL, payload)\n",
    "\n",
    "print(result.url)\n",
    "print('\\n')\n",
    "print(result.text)"
   ]
  },
  {
   "cell_type": "markdown",
   "id": "adde8187",
   "metadata": {},
   "source": [
    "If there is a problem with the input structure, there should some human-readable message that indicates what the error is. Again this will vary by organization, the message itself is not part of this standard, but basic things like valence checks on organic structures will presumably be handled similarly."
   ]
  },
  {
   "cell_type": "code",
   "execution_count": 8,
   "id": "48b1cde9",
   "metadata": {},
   "outputs": [
    {
     "name": "stdout",
     "output_type": "stream",
     "text": [
      "https://pubchem.ncbi.nlm.nih.gov/resolver/resolver.cgi?smiles=CC%28C%29%28C%29%28C%29C&action=validate_structure\n",
      "\n",
      "\n",
      "{\n",
      "  \"Fault\": {\n",
      "    \"Code\": \"Invalid\",\n",
      "    \"Message\": \"Structure is not valid\",\n",
      "    \"Details\": [\n",
      "      \"Record 0: Warning: \\\"pcData/pubchem_valence.cpp\\\", line 290: Detected illegal valence for element \\\"C\\\": 5 sigma bonds, 0 pi bonds, 0 charge\",\n",
      "      \"Exception: Valence validation failed\"\n",
      "    ]\n",
      "  }\n",
      "}\n",
      "\n"
     ]
    }
   ],
   "source": [
    "payload = { \"smiles\": \"CC(C)(C)(C)C\", \"action\": \"validate_structure\" }\n",
    "\n",
    "result = requests.get(RESOLVER_BASE_URL, payload)\n",
    "\n",
    "print(result.url)\n",
    "print('\\n')\n",
    "print(result.text)"
   ]
  },
  {
   "cell_type": "markdown",
   "id": "c2972cc2",
   "metadata": {},
   "source": [
    "Here is an exmple where the organization's specific rules come into play. PubChem, which is designed mainly for drug-like chemicals, rejects isotopes with half-life less than 1 millisecond. This may not be the case for other databases with different purposes and goals. So even though <sup>5</sup>H exists (at least in a laboratory), it's not considered valid in PubChem."
   ]
  },
  {
   "cell_type": "code",
   "execution_count": 9,
   "id": "d79e918c",
   "metadata": {},
   "outputs": [
    {
     "name": "stdout",
     "output_type": "stream",
     "text": [
      "https://pubchem.ncbi.nlm.nih.gov/resolver/resolver.cgi?smiles=C%5B5H%5D&action=validate_structure\n",
      "\n",
      "\n",
      "{\n",
      "  \"Fault\": {\n",
      "    \"Code\": \"Invalid\",\n",
      "    \"Message\": \"Structure is not valid\",\n",
      "    \"Details\": [\n",
      "      \"Record 0: Info: \\\"OpenEye/pubchem_compound.cpp\\\", line 3121: Atom ID \\\"2\\\" has illegal isotope (5) for atomic number 1 (\\\"H\\\")\",\n",
      "      \"Exception: Element validation failed\"\n",
      "    ]\n",
      "  }\n",
      "}\n",
      "\n"
     ]
    }
   ],
   "source": [
    "payload = { \"smiles\": \"C[5H]\", \"action\": \"validate_structure\" }\n",
    "\n",
    "result = requests.get(RESOLVER_BASE_URL, payload)\n",
    "\n",
    "print(result.url)\n",
    "print('\\n')\n",
    "print(result.text)"
   ]
  },
  {
   "cell_type": "markdown",
   "id": "54d1f4c5",
   "metadata": {},
   "source": [
    "Here is a more complex example, a larger structure (Prostaglandin D<sub>2</sub>) with multiple stereocenters, both sp3 and sp2. Note the response data indicates how many defined vs. undefined stereocenters are present, which may assist the user in matching their expectations to the machine result."
   ]
  },
  {
   "cell_type": "code",
   "execution_count": 10,
   "id": "27507e95",
   "metadata": {},
   "outputs": [
    {
     "name": "stdout",
     "output_type": "stream",
     "text": [
      "https://pubchem.ncbi.nlm.nih.gov/resolver/resolver.cgi?smiles=CCCCC%5BC%40%40H%5D%28%2FC%3DC%2F%5BC%40%40H%5D1%5BC%40H%5D%28%5BC%40H%5D%28CC1%3DO%29O%29C%2FC%3DC%5CCCCC%28%3DO%29O%29O&action=validate_structure\n",
      "\n",
      "\n",
      "{\n",
      "  \"Result\": {\n",
      "    \"Message\": \"Structure is valid\",\n",
      "    \"Statistics\": [\n",
      "      {\n",
      "        \"Type\": \"DefinedAtomStereo\",\n",
      "        \"Value\": \"4\"\n",
      "      },\n",
      "      {\n",
      "        \"Type\": \"UndefinedAtomStereo\",\n",
      "        \"Value\": \"0\"\n",
      "      },\n",
      "      {\n",
      "        \"Type\": \"DefinedBondStereo\",\n",
      "        \"Value\": \"2\"\n",
      "      },\n",
      "      {\n",
      "        \"Type\": \"UndefinedBondStereo\",\n",
      "        \"Value\": \"0\"\n",
      "      },\n",
      "      {\n",
      "        \"Type\": \"HeavyAtoms\",\n",
      "        \"Value\": \"25\"\n",
      "      },\n",
      "      {\n",
      "        \"Type\": \"IsotopeAtoms\",\n",
      "        \"Value\": \"0\"\n",
      "      },\n",
      "      {\n",
      "        \"Type\": \"CovalentUnits\",\n",
      "        \"Value\": \"1\"\n",
      "      }\n",
      "    ]\n",
      "  }\n",
      "}\n",
      "\n"
     ]
    }
   ],
   "source": [
    "payload = { \n",
    "    \"smiles\": \"CCCCC[C@@H](/C=C/[C@@H]1[C@H]([C@H](CC1=O)O)C/C=C\\CCCC(=O)O)O\", \n",
    "    \"action\": \"validate_structure\" \n",
    "}\n",
    "\n",
    "result = requests.get(RESOLVER_BASE_URL, payload)\n",
    "\n",
    "print(result.url)\n",
    "print('\\n')\n",
    "print(result.text)"
   ]
  },
  {
   "cell_type": "markdown",
   "id": "2ccf0a4c",
   "metadata": {},
   "source": [
    "Finally, it may be helpful to chemists, who are trained to interpret chemical structures visually, to see a computer-generated image of their input, again to see if it matches what the chemist thinks should be there. So the resolver can also return an image file, with an appropriate output format request. Note, in order to show the image here in the notebook, we must use the resolver URL in the image tag directly, rather than going through python."
   ]
  },
  {
   "cell_type": "code",
   "execution_count": 11,
   "id": "de007cc5",
   "metadata": {},
   "outputs": [
    {
     "name": "stdout",
     "output_type": "stream",
     "text": [
      "https://pubchem.ncbi.nlm.nih.gov/resolver/resolver.cgi?smiles=CCCCC%5BC%40%40H%5D%28%2FC%3DC%2F%5BC%40%40H%5D1%5BC%40H%5D%28%5BC%40H%5D%28CC1%3DO%29O%29C%2FC%3DC%5CCCCC%28%3DO%29O%29O&action=validate_structure&format=png\n"
     ]
    }
   ],
   "source": [
    "payload = { \n",
    "    \"smiles\": \"CCCCC[C@@H](/C=C/[C@@H]1[C@H]([C@H](CC1=O)O)C/C=C\\CCCC(=O)O)O\", \n",
    "    \"action\": \"validate_structure\",\n",
    "    \"format\": \"png\"\n",
    "}\n",
    "\n",
    "result = requests.get(RESOLVER_BASE_URL, payload)\n",
    "\n",
    "print(result.url)"
   ]
  },
  {
   "cell_type": "markdown",
   "id": "d3bc8691",
   "metadata": {},
   "source": [
    "![Resolver image](https://pubchem.ncbi.nlm.nih.gov/resolver/resolver.cgi?smiles=CCCCC%5BC%40%40H%5D%28%2FC%3DC%2F%5BC%40%40H%5D1%5BC%40H%5D%28%5BC%40H%5D%28CC1%3DO%29O%29C%2FC%3DC%5CCCCC%28%3DO%29O%29O&action=validate_structure&format=png)"
   ]
  },
  {
   "cell_type": "markdown",
   "id": "4ab64fb0",
   "metadata": {},
   "source": [
    "## Conclusion\n",
    "\n",
    "It is our hope this this notebook provides a clear overview of the expected functionality of the resolver being proposed by this IUPAC project. These working examples should give the user a chance to see how to submit these web service requests, without having to know any programming, and to be able to change the inputs with their own SMILES strings etc. in order to see how the resolver responds to their unique cases.\n",
    "\n",
    "We would be happy to get feedback, please see here for details. Thank you!\n",
    "\n",
    "[https://iupac.github.io/WFChemProtocols/demo.html](https://iupac.github.io/WFChemProtocols/demo.html)"
   ]
  },
  {
   "cell_type": "code",
   "execution_count": null,
   "id": "b9d47ef5",
   "metadata": {},
   "outputs": [],
   "source": []
  }
 ],
 "metadata": {
  "kernelspec": {
   "display_name": "Python 3 (ipykernel)",
   "language": "python",
   "name": "python3"
  },
  "language_info": {
   "codemirror_mode": {
    "name": "ipython",
    "version": 3
   },
   "file_extension": ".py",
   "mimetype": "text/x-python",
   "name": "python",
   "nbconvert_exporter": "python",
   "pygments_lexer": "ipython3",
   "version": "3.11.3"
  }
 },
 "nbformat": 4,
 "nbformat_minor": 5
}
